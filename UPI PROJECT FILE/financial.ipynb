{
 "cells": [
  {
   "cell_type": "markdown",
   "id": "0202180b-7945-46a4-9b7b-70ace42b3050",
   "metadata": {},
   "source": [
    "LOADING DATA FROM EXCEL FILE TO PYTHON"
   ]
  },
  {
   "cell_type": "code",
   "execution_count": 55,
   "id": "82856c14-7fbb-4eca-9ec4-88ad1fbd7614",
   "metadata": {},
   "outputs": [
    {
     "name": "stdout",
     "output_type": "stream",
     "text": [
      "Available Sheets: ['UPI Remitter Members', 'UPI Beneficiary Members - Top 5', 'State-wise UPI Product Statisti', 'UPI Payer PSP Performance', 'UPI Merchant Category-wise']\n",
      "Data loaded successfully!\n"
     ]
    }
   ],
   "source": [
    "import pandas as pd\n",
    "import matplotlib.pyplot as plt\n",
    "import seaborn as sns\n",
    "\n",
    "file_path = r\"C:\\Users\\velpula smaran\\OneDrive\\Desktop\\project1\\financial_data.xlsx\"\n",
    "\n",
    "# Read Excel file and list sheets\n",
    "xls = pd.ExcelFile(file_path)\n",
    "print(\"Available Sheets:\", xls.sheet_names)\n",
    "\n",
    "# Load using exact names from xls.sheet_names\n",
    "df_remitter = pd.read_excel(file_path, sheet_name=\"UPI Remitter Members\", skiprows=1)\n",
    "df_state = pd.read_excel(file_path, sheet_name=\"State-wise UPI Product Statisti\", skiprows=2) \n",
    "df_psp = pd.read_excel(file_path, sheet_name=\"UPI Payer PSP Performance\", skiprows=2)\n",
    "df_psp.dropna(how=\"all\", inplace=True)\n",
    "df_merchant = pd.read_excel(file_path, sheet_name=\"UPI Merchant Category-wise\", skiprows=1)\n",
    "\n",
    "print(\"Data loaded successfully!\")\n"
   ]
  },
  {
   "cell_type": "markdown",
   "id": "988da9a1-947a-45b4-a542-ed52a9014b41",
   "metadata": {},
   "source": [
    "CLEANING REMITTER DATA"
   ]
  },
  {
   "cell_type": "code",
   "execution_count": 21,
   "id": "dd84b04c-304b-483a-b47c-1e96bcc691dc",
   "metadata": {},
   "outputs": [],
   "source": [
    "df_remitter.columns = [\"sr_no\", \"bank_name\", \"total_txns_mn\", \"approved_pct\", \"bd_pct\", \"td_pct\",\n",
    "                       \"debit_rev_count_mn\", \"debit_rev_success_pct\"]\n",
    "df_remitter.dropna(subset=[\"bank_name\"], inplace=True)\n",
    "df_remitter[\"approved_txns_mn\"] = df_remitter[\"total_txns_mn\"] * df_remitter[\"approved_pct\"]\n",
    "df_remitter[\"failed_txns_mn\"] = df_remitter[\"total_txns_mn\"] - df_remitter[\"approved_txns_mn\"]\n",
    "df_remitter[\"failure_rate\"] = df_remitter[\"failed_txns_mn\"] / df_remitter[\"total_txns_mn\"]\n"
   ]
  },
  {
   "cell_type": "markdown",
   "id": "1137eda5-f8e5-4557-b453-b220692e247c",
   "metadata": {},
   "source": [
    "Clean PSP Data"
   ]
  },
  {
   "cell_type": "code",
   "execution_count": 61,
   "id": "4a7a4388-5f91-4372-8311-cda863a240b9",
   "metadata": {},
   "outputs": [],
   "source": [
    "# Remove summary/footer rows before numeric conversion\n",
    "df_psp = df_psp[~df_psp[\"total_txns_mn\"].astype(str).str.contains(\"Total\", case=False, na=False)]\n",
    "\n",
    "# Clean numbers\n",
    "df_psp[\"total_txns_mn\"] = (\n",
    "    df_psp[\"total_txns_mn\"]\n",
    "    .astype(str)\n",
    "    .str.replace(\",\", \"\", regex=False)\n",
    "    .astype(float)\n",
    ")\n",
    "\n",
    "df_psp[\"approved_pct\"] = (\n",
    "    df_psp[\"approved_pct\"]\n",
    "    .astype(str)\n",
    "    .str.replace(\"%\", \"\", regex=False)\n",
    "    .str.strip()\n",
    "    .astype(float) / 100\n",
    ")\n",
    "\n",
    "# Calculate failure rate\n",
    "df_psp[\"approved_txns_mn\"] = df_psp[\"total_txns_mn\"] * df_psp[\"approved_pct\"]\n",
    "df_psp[\"failed_txns_mn\"] = df_psp[\"total_txns_mn\"] - df_psp[\"approved_txns_mn\"]\n",
    "df_psp[\"failure_rate\"] = df_psp[\"failed_txns_mn\"] / df_psp[\"total_txns_mn\"]\n"
   ]
  },
  {
   "cell_type": "code",
   "execution_count": null,
   "id": "260c4d4a-86a9-4334-86c9-ff270fd55679",
   "metadata": {},
   "outputs": [],
   "source": [
    "CLEANING STATE DATA"
   ]
  },
  {
   "cell_type": "code",
   "execution_count": 29,
   "id": "eb1d838e-6072-4668-a0ba-cfec8e544acb",
   "metadata": {},
   "outputs": [],
   "source": [
    "df_state.columns = [\"sr_no\", \"state_name\", \"volume_mn\", \"volume_pct\", \"value_cr\", \"value_pct\"]\n",
    "df_state.dropna(subset=[\"state_name\"], inplace=True)\n"
   ]
  },
  {
   "cell_type": "markdown",
   "id": "d835e608-2ee0-4c1b-8a87-33ced2281f08",
   "metadata": {},
   "source": [
    "CLEANING MERCHANT DATA"
   ]
  },
  {
   "cell_type": "code",
   "execution_count": 31,
   "id": "fbc1432a-cff8-44ea-a59e-7ecd7605a135",
   "metadata": {},
   "outputs": [],
   "source": [
    "df_merchant.columns = [\"sr_no\", \"mcc_code\", \"description\", \"volume_mn\", \"value_cr\"]\n",
    "df_merchant.dropna(subset=[\"description\"], inplace=True)"
   ]
  },
  {
   "cell_type": "markdown",
   "id": "cd927ffd-977b-4f09-98f0-a51de5855b50",
   "metadata": {},
   "source": [
    "Save cleaned data"
   ]
  },
  {
   "cell_type": "code",
   "execution_count": 65,
   "id": "eeeef73b-68ce-4b5e-b5be-491b9663b2bc",
   "metadata": {},
   "outputs": [
    {
     "name": "stdout",
     "output_type": "stream",
     "text": [
      "✅ Cleaned CSVs saved successfully!\n"
     ]
    }
   ],
   "source": [
    "df_remitter.to_csv(r\"C:\\Users\\velpula smaran\\OneDrive\\Desktop\\project1\\cleaned_upi_remitter.csv\", index=False)\n",
    "df_psp.to_csv(r\"C:\\Users\\velpula smaran\\OneDrive\\Desktop\\project1\\cleaned_upi_psp.csv\", index=False)\n",
    "df_state.to_csv(r\"C:\\Users\\velpula smaran\\OneDrive\\Desktop\\project1\\cleaned_upi_state.csv\", index=False)\n",
    "df_merchant.to_csv(r\"C:\\Users\\velpula smaran\\OneDrive\\Desktop\\project1\\cleaned_upi_merchant.csv\", index=False)\n",
    "\n",
    "print(\"✅ Cleaned CSVs saved successfully!\")"
   ]
  },
  {
   "cell_type": "code",
   "execution_count": 37,
   "id": "5e4c6023-8fff-47ac-93e7-ee8b5616c912",
   "metadata": {},
   "outputs": [
    {
     "name": "stdout",
     "output_type": "stream",
     "text": [
      "    sr_no                             bank_name  total_txns_mn  approved_pct  \\\n",
      "0       1                   State Bank of India        5214.74        0.9322   \n",
      "1       2                        HDFC Bank Ltd.        1543.98        0.9516   \n",
      "2       3                        Bank of Baroda        1328.01        0.9070   \n",
      "3       4                   Union Bank of India        1200.25        0.9281   \n",
      "4       5                  Punjab National Bank        1106.80        0.9141   \n",
      "5       6                   Kotak Mahindra Bank         960.38        0.9229   \n",
      "6       7                           Canara Bank         942.67        0.9265   \n",
      "7       8                        Axis Bank Ltd.         875.50        0.9464   \n",
      "8       9                       ICICI Bank Ltd.         735.99        0.9608   \n",
      "9      10      India Post Payments Bank Limited         637.61        0.8872   \n",
      "10     11                           Indian Bank         631.57        0.9254   \n",
      "11     12          Airtel Payments Bank Limited         615.75        0.8584   \n",
      "12     13                         Bank Of India         606.19        0.9122   \n",
      "13     14                  Indian Overseas Bank         322.83        0.9131   \n",
      "14     15                 Central Bank of India         292.20        0.9116   \n",
      "15     16                              UCO Bank         273.67        0.9141   \n",
      "16     17                     Federal Bank Ltd.         257.37        0.9318   \n",
      "17     18               Fino Payments Bank Ltd.         223.00        0.8683   \n",
      "18     19                   Bank of Maharashtra         213.67        0.9327   \n",
      "19     20                    Indusind Bank Ltd.         211.20        0.8996   \n",
      "20     21                        IDBI Bank Ltd.         204.29        0.9345   \n",
      "21     22                         Yes Bank Ltd.         203.24        0.9222   \n",
      "22     23                        Karnataka Bank         140.62        0.9218   \n",
      "23     24  Tri O Tech Solutions Private Limited         124.55        1.0000   \n",
      "24     25                        IDFC Bank Ltd.         118.94        0.9326   \n",
      "25     26      The Jammu & Kashmir Bank Limited         106.40        0.8864   \n",
      "26     27                      Karur Vysya Bank          95.01        0.9255   \n",
      "27     28                  Bandhan Bank limited          90.18        0.9392   \n",
      "28     29                 AU Small Finance Bank          77.71        0.8921   \n",
      "29     30         The South Indian Bank Limited          72.87        0.9468   \n",
      "30     31                 JIO Payments Bank Ltd          58.03        0.8607   \n",
      "31     32                  Punjab and Sind Bank          57.19        0.9096   \n",
      "32     33                       City Union Bank          56.65        0.9230   \n",
      "33     34      Tamilnad Mercantile Bank Limited          55.91        0.9144   \n",
      "34     35    Ujjivan Small Finance Bank Limited          54.99        0.8992   \n",
      "35     36                      Baroda U.P. Bank          48.24        0.9271   \n",
      "36     37                    Kerala Gramin Bank          46.93        0.9133   \n",
      "37     38            NSDL Payments Bank Limited          45.70        0.8488   \n",
      "38     39               Telangana Grameena Bank          40.36        0.8811   \n",
      "39     40               Maharashtra Gramin Bank          37.37        0.8463   \n",
      "40     41       Rajasthan Marudhara Gramin Bank          36.15        0.8528   \n",
      "41     42                 Karnataka Gramin Bank          34.96        0.8909   \n",
      "42     43           ESAF Small Finance Bank Ltd          33.38        0.9570   \n",
      "43     44         Andhra Pragathi Grameena Bank          31.91        0.8227   \n",
      "44     45                DBS Bank India Limited          31.81        0.9309   \n",
      "45     46                         RBL Bank Ltd.          31.22        0.9243   \n",
      "46     47            Equitas Small Finance Bank          30.07        0.9114   \n",
      "47     48            Saraswat Co-operative Bank          29.63        0.9475   \n",
      "48     49             Sarva Haryana Gramin Bank          26.28        0.9429   \n",
      "49     50               Standard Chartered Bank          23.69        0.9549   \n",
      "\n",
      "    bd_pct  td_pct debit_rev_count_mn  debit_rev_success_pct  \\\n",
      "0   0.0617  0.0061              17.16                 0.6371   \n",
      "1   0.0476  0.0008               0.44                 0.9992   \n",
      "2   0.0908  0.0022               3.73                 0.9768   \n",
      "3   0.0698  0.0020               3.44                 0.8593   \n",
      "4   0.0839  0.0019               3.55                 0.9866   \n",
      "5   0.0769  0.0002               2.18                 0.9786   \n",
      "6   0.0711  0.0024               2.84                 0.8215   \n",
      "7   0.0533  0.0004                1.8                 0.9782   \n",
      "8   0.0389  0.0002               1.33                 0.9772   \n",
      "9   0.1116  0.0012               2.33                 0.9938   \n",
      "10  0.0721  0.0025               1.67                 0.8713   \n",
      "11  0.1406  0.0011               2.35                 0.9821   \n",
      "12  0.0634  0.0244               3.87                 0.5497   \n",
      "13  0.0792  0.0076               1.96                 0.5810   \n",
      "14  0.0803  0.0081               1.41                 0.7847   \n",
      "15  0.0842  0.0018               0.91                 0.8854   \n",
      "16  0.0671  0.0011               0.55                 0.9709   \n",
      "17  0.1253  0.0064               0.93                 0.9045   \n",
      "18  0.0660  0.0013               0.56                 0.9276   \n",
      "19  0.0993  0.0010               0.72                 0.8064   \n",
      "20  0.0633  0.0022               0.67                 0.8800   \n",
      "21  0.0768  0.0011               0.29                 0.8692   \n",
      "22  0.0741  0.0041                0.4                 0.7569   \n",
      "23  0.0000  0.0000                  -                 0.0000   \n",
      "24  0.0655  0.0018               0.32                 0.8318   \n",
      "25  0.0556  0.0579               2.28                 0.1194   \n",
      "26  0.0664  0.0081               0.39                 0.6516   \n",
      "27  0.0541  0.0067               0.39                 0.8242   \n",
      "28  0.1011  0.0068               0.34                 0.7050   \n",
      "29  0.0508  0.0024               0.15                 0.9926   \n",
      "30  0.1254  0.0139               0.53                 0.8405   \n",
      "31  0.0817  0.0087               0.33                 0.7620   \n",
      "32  0.0756  0.0014               0.13                 0.9987   \n",
      "33  0.0729  0.0127               0.24                 0.6784   \n",
      "34  0.0892  0.0116               0.19                 0.8013   \n",
      "35  0.0561  0.0168               0.32                 0.5653   \n",
      "36  0.0704  0.0164               0.42                 0.8531   \n",
      "37  0.1423  0.0089                0.3                 0.7460   \n",
      "38  0.1035  0.0154               0.38                 0.5678   \n",
      "39  0.1382  0.0156                0.2                 0.6299   \n",
      "40  0.1234  0.0238               0.32                 0.4095   \n",
      "41  0.1003  0.0088               0.19                 0.9119   \n",
      "42  0.0426  0.0004               0.09                 0.9784   \n",
      "43  0.1396  0.0378               0.28                 0.3242   \n",
      "44  0.0676  0.0015               0.08                 0.9578   \n",
      "45  0.0709  0.0048                0.1                 0.7993   \n",
      "46  0.0886  0.0001               0.08                 0.9928   \n",
      "47  0.0511  0.0015               0.06                 0.9644   \n",
      "48  0.0470  0.0101               0.18                 0.5732   \n",
      "49  0.0422  0.0030               0.06                 0.6911   \n",
      "\n",
      "    approved_txns_mn  failed_txns_mn  failure_rate  \n",
      "0        4861.180628      353.559372        0.0678  \n",
      "1        1469.251368       74.728632        0.0484  \n",
      "2        1204.505070      123.504930        0.0930  \n",
      "3        1113.952025       86.297975        0.0719  \n",
      "4        1011.725880       95.074120        0.0859  \n",
      "5         886.334702       74.045298        0.0771  \n",
      "6         873.383755       69.286245        0.0735  \n",
      "7         828.573200       46.926800        0.0536  \n",
      "8         707.139192       28.850808        0.0392  \n",
      "9         565.687592       71.922408        0.1128  \n",
      "10        584.454878       47.115122        0.0746  \n",
      "11        528.559800       87.190200        0.1416  \n",
      "12        552.966518       53.223482        0.0878  \n",
      "13        294.776073       28.053927        0.0869  \n",
      "14        266.369520       25.830480        0.0884  \n",
      "15        250.161747       23.508253        0.0859  \n",
      "16        239.817366       17.552634        0.0682  \n",
      "17        193.630900       29.369100        0.1317  \n",
      "18        199.290009       14.379991        0.0673  \n",
      "19        189.995520       21.204480        0.1004  \n",
      "20        190.909005       13.380995        0.0655  \n",
      "21        187.427928       15.812072        0.0778  \n",
      "22        129.623516       10.996484        0.0782  \n",
      "23        124.550000        0.000000        0.0000  \n",
      "24        110.923444        8.016556        0.0674  \n",
      "25         94.312960       12.087040        0.1136  \n",
      "26         87.931755        7.078245        0.0745  \n",
      "27         84.697056        5.482944        0.0608  \n",
      "28         69.325091        8.384909        0.1079  \n",
      "29         68.993316        3.876684        0.0532  \n",
      "30         49.946421        8.083579        0.1393  \n",
      "31         52.020024        5.169976        0.0904  \n",
      "32         52.287950        4.362050        0.0770  \n",
      "33         51.124104        4.785896        0.0856  \n",
      "34         49.447008        5.542992        0.1008  \n",
      "35         44.723304        3.516696        0.0729  \n",
      "36         42.861169        4.068831        0.0867  \n",
      "37         38.790160        6.909840        0.1512  \n",
      "38         35.561196        4.798804        0.1189  \n",
      "39         31.626231        5.743769        0.1537  \n",
      "40         30.828720        5.321280        0.1472  \n",
      "41         31.145864        3.814136        0.1091  \n",
      "42         31.944660        1.435340        0.0430  \n",
      "43         26.252357        5.657643        0.1773  \n",
      "44         29.611929        2.198071        0.0691  \n",
      "45         28.856646        2.363354        0.0757  \n",
      "46         27.405798        2.664202        0.0886  \n",
      "47         28.074425        1.555575        0.0525  \n",
      "48         24.779412        1.500588        0.0571  \n",
      "49         22.621581        1.068419        0.0451  \n"
     ]
    }
   ],
   "source": [
    "print(df_remitter)"
   ]
  },
  {
   "cell_type": "code",
   "execution_count": 39,
   "id": "375562dd-82bb-46b3-adc8-c8bbf26f24f0",
   "metadata": {},
   "outputs": [
    {
     "name": "stdout",
     "output_type": "stream",
     "text": [
      "      sr_no                              psp_name         total_txns_mn  \\\n",
      "0         1                        Axis Bank Ltd.               7234.98   \n",
      "1         2                         Yes Bank Ltd.               5894.24   \n",
      "2         3                       ICICI Bank Ltd.               3697.64   \n",
      "3         4                        HDFC Bank Ltd.               2038.72   \n",
      "4         5                   State Bank of India               1652.32   \n",
      "5         6  Tri O Tech Solutions Private Limited                124.54   \n",
      "6         7                                  BHIM                 99.55   \n",
      "7         8                   Kotak Mahindra Bank                 67.13   \n",
      "8         9          Airtel Payments Bank Limited                 22.17   \n",
      "9        10     North East Small Finance Bank Ltd                 20.49   \n",
      "10       11                        IDFC Bank Ltd.                 19.28   \n",
      "11       12      India Post Payments Bank Limited                 18.16   \n",
      "12       13                         RBL Bank Ltd.                 17.25   \n",
      "13       14          One Mobikwik Systems Limited                 16.68   \n",
      "14       15                     Federal Bank Ltd.                  8.94   \n",
      "19  Sr. No.                             Payee PSP  Total Volume (In Mn)   \n",
      "20        1                         Yes Bank Ltd.              10547.67   \n",
      "21        2                        Axis Bank Ltd.               3700.44   \n",
      "22        3                       ICICI Bank Ltd.               1863.07   \n",
      "23        4                        HDFC Bank Ltd.               1434.68   \n",
      "24        5                   State Bank of India               1434.09   \n",
      "25        6                     Federal Bank Ltd.                294.38   \n",
      "26        7          Airtel Payments Bank Limited                211.01   \n",
      "27        8                    Indusind Bank Ltd.                 118.8   \n",
      "28        9      Unity Small Finance Bank Limited                116.81   \n",
      "29       10                           Canara Bank                 96.68   \n",
      "30       11                         RBL Bank Ltd.                 92.99   \n",
      "31       12                   Kotak Mahindra Bank                  74.5   \n",
      "32       13  Tri O Tech Solutions Private Limited                 59.98   \n",
      "33       14          One Mobikwik Systems Limited                 55.68   \n",
      "34       15            NSDL Payments Bank Limited                 43.15   \n",
      "\n",
      "   approved_pct  bd_pct  td_pct  \n",
      "0        0.9326  0.0661  0.0013  \n",
      "1        0.9091  0.0898  0.0011  \n",
      "2        0.9229  0.0759  0.0012  \n",
      "3        0.9418  0.0576  0.0007  \n",
      "4        0.9475  0.0505   0.002  \n",
      "5             1       0       0  \n",
      "6         0.951  0.0464  0.0026  \n",
      "7             1       0       0  \n",
      "8        0.9629  0.0363  0.0008  \n",
      "9        0.9706  0.0286  0.0008  \n",
      "10       0.9979  0.0021       0  \n",
      "11            1       0       0  \n",
      "12       0.9783  0.0209  0.0008  \n",
      "13            1       0       0  \n",
      "14       0.9887   0.011  0.0003  \n",
      "19   Approved %    BD %    TD %  \n",
      "20       0.9122  0.0866  0.0012  \n",
      "21       0.9414  0.0574  0.0012  \n",
      "22       0.9366  0.0621  0.0014  \n",
      "23       0.9395  0.0593  0.0012  \n",
      "24       0.9489  0.0498  0.0013  \n",
      "25       0.9686  0.0302  0.0012  \n",
      "26        0.933  0.0658  0.0012  \n",
      "27       0.9301  0.0686  0.0012  \n",
      "28       0.9699   0.029  0.0011  \n",
      "29       0.9692  0.0297  0.0011  \n",
      "30       0.9364  0.0622  0.0015  \n",
      "31       0.9501  0.0475  0.0025  \n",
      "32       0.9382  0.0606  0.0012  \n",
      "33       0.9658  0.0333   0.001  \n",
      "34       0.9198  0.0789  0.0013  \n"
     ]
    }
   ],
   "source": [
    "print(df_psp)"
   ]
  },
  {
   "cell_type": "code",
   "execution_count": 41,
   "id": "a97beb24-267d-4d6c-aebb-cfa3d6c53aee",
   "metadata": {},
   "outputs": [
    {
     "name": "stdout",
     "output_type": "stream",
     "text": [
      "    sr_no                          state_name  volume_mn  volume_pct  \\\n",
      "0       1                         MAHARASHTRA    1905.45    0.000979   \n",
      "1       2                           KARNATAKA    1067.74    0.000548   \n",
      "2       3                       UTTAR PRADESH    1031.94    0.000530   \n",
      "3       4                           TELANGANA     791.46    0.000407   \n",
      "4       5                          TAMIL NADU     778.83    0.000400   \n",
      "5       6                      ANDHRA PRADESH     535.33    0.000275   \n",
      "6       7                           RAJASTHAN     527.21    0.000271   \n",
      "7       8                             GUJARAT     501.34    0.000258   \n",
      "8       9                               DELHI     468.19    0.000240   \n",
      "9      10                         WEST BENGAL     425.54    0.000219   \n",
      "10     11                      MADHYA PRADESH     420.83    0.000216   \n",
      "11     12                               BIHAR     405.54    0.000208   \n",
      "12     13                             HARYANA     397.29    0.000204   \n",
      "13     14                              KERALA     369.33    0.000190   \n",
      "14     15                              ODISHA     263.74    0.000135   \n",
      "15     16                              PUNJAB     210.05    0.000108   \n",
      "16     17                               ASSAM     197.75    0.000102   \n",
      "17     18                           JHARKHAND     167.61    0.000086   \n",
      "18     19                        CHHATTISGARH     129.34    0.000066   \n",
      "19     20                         UTTARAKHAND     111.48    0.000057   \n",
      "20     21                   JAMMU AND KASHMIR      85.58    0.000044   \n",
      "21     22                    HIMACHAL PRADESH      56.85    0.000029   \n",
      "22     23                                 GOA      30.59    0.000016   \n",
      "23     24                          CHANDIGARH      26.05    0.000013   \n",
      "24     25                   ARUNACHAL PRADESH      21.14    0.000011   \n",
      "25     26                          PUDUCHERRY      18.45    0.000009   \n",
      "26     27                           MEGHALAYA      15.50    0.000008   \n",
      "27     28                             MANIPUR      14.39    0.000007   \n",
      "28     29                             TRIPURA      14.24    0.000007   \n",
      "29     30                            NAGALAND      11.80    0.000006   \n",
      "30     31                             MIZORAM      11.46    0.000006   \n",
      "31     32  DADRA & NAGAR HAVELI & DAMAN & DIU      10.43    0.000005   \n",
      "32     33                              SIKKIM       8.19    0.000004   \n",
      "33     34                              LADAKH       4.68    0.000002   \n",
      "34     35                   ANDAMAN & NICOBAR       3.69    0.000002   \n",
      "35     36                         LAKSHADWEEP       0.54    0.000000   \n",
      "36     37                       Unclassified#    8428.39    0.004329   \n",
      "\n",
      "     value_cr  value_pct  \n",
      "0   230572.42   0.000919  \n",
      "1   144605.61   0.000576  \n",
      "2   131885.79   0.000526  \n",
      "3   126739.73   0.000505  \n",
      "4   117090.44   0.000467  \n",
      "5    93508.25   0.000373  \n",
      "6    76044.26   0.000303  \n",
      "7    74010.90   0.000295  \n",
      "8    58845.62   0.000235  \n",
      "9    62144.42   0.000248  \n",
      "10   55546.05   0.000221  \n",
      "11   58775.41   0.000234  \n",
      "12   54916.93   0.000219  \n",
      "13   51875.51   0.000207  \n",
      "14   33890.22   0.000135  \n",
      "15   34831.65   0.000139  \n",
      "16   21802.15   0.000087  \n",
      "17   21496.22   0.000086  \n",
      "18   16474.90   0.000066  \n",
      "19   13515.41   0.000054  \n",
      "20   10998.69   0.000044  \n",
      "21    7153.07   0.000029  \n",
      "22    4347.72   0.000017  \n",
      "23    3244.66   0.000013  \n",
      "24    2771.17   0.000011  \n",
      "25    2521.15   0.000010  \n",
      "26    2093.59   0.000008  \n",
      "27    2877.94   0.000011  \n",
      "28    1891.80   0.000008  \n",
      "29    1754.04   0.000007  \n",
      "30    1702.60   0.000007  \n",
      "31    1115.18   0.000004  \n",
      "32    1044.52   0.000004  \n",
      "33     821.56   0.000003  \n",
      "34     551.63   0.000002  \n",
      "35      53.09   0.000000  \n",
      "36  984983.82   0.003927  \n"
     ]
    }
   ],
   "source": [
    "print(df_state)"
   ]
  },
  {
   "cell_type": "code",
   "execution_count": 43,
   "id": "ce42b732-a4b9-4b61-9653-88c0a6cb1357",
   "metadata": {},
   "outputs": [
    {
     "name": "stdout",
     "output_type": "stream",
     "text": [
      "                            sr_no mcc_code  \\\n",
      "0     High Transacting Categories     5411   \n",
      "1                             NaN     5814   \n",
      "2                             NaN     5812   \n",
      "3                             NaN     4814   \n",
      "4                             NaN     5541   \n",
      "5                             NaN     5816   \n",
      "6                             NaN     5993   \n",
      "7                             NaN     5462   \n",
      "8                             NaN     5912   \n",
      "9                             NaN     4900   \n",
      "10  Medium Transacting Categories     5451   \n",
      "11                            NaN     7322   \n",
      "12                            NaN     5921   \n",
      "13                            NaN     5441   \n",
      "14                            NaN     5422   \n",
      "15                            NaN     9399   \n",
      "16                            NaN     5262   \n",
      "17                            NaN     5813   \n",
      "18                            NaN     5691   \n",
      "19                            NaN     5412   \n",
      "20           All Other Categories     5732   \n",
      "21                            NaN     7230   \n",
      "22                            NaN     7622   \n",
      "23                            NaN     4112   \n",
      "24                            NaN     5137   \n",
      "25                            NaN     5311   \n",
      "26                            NaN     4121   \n",
      "27                            NaN     5331   \n",
      "28                            NaN     5651   \n",
      "\n",
      "                                          description  volume_mn  value_cr  \n",
      "0                          Groceries and supermarkets    3032.59  64881.98  \n",
      "1                               Fast food restaurants    1221.46  13794.22  \n",
      "2                       Eating places and restaurants    1153.40  18212.77  \n",
      "3   Telecommunication services, including local an...     871.88  21628.80  \n",
      "4   Service stations (with or without ancillary se...     612.49  35188.88  \n",
      "5                                Digital Goods: Games     351.24  10076.56  \n",
      "6                              Cigar shops and stands     321.84   1900.46  \n",
      "7                                            Bakeries     261.93   3778.91  \n",
      "8                          Drug stores and pharmacies     297.41  11824.93  \n",
      "9         Utilities electric, gas, water and sanitary     174.72  23497.63  \n",
      "10                                            Dairies     178.32   4372.84  \n",
      "11                           Debt collection agencies     161.36  93857.47  \n",
      "12                Package shops beer, wine and liquor     145.64   5920.43  \n",
      "13                 Candy, nut and confectionery shops     107.37   1945.81  \n",
      "14               Freezer and locker meat provisioners      98.64   3140.46  \n",
      "15       Government services not elsewhere classified     109.96  11298.32  \n",
      "16                                Online Marketplaces     122.01   8053.72  \n",
      "17  Drinking places (alcoholic beverages) bars, ta...      86.44   3314.04  \n",
      "18                     Mens and womens clothing shops      92.54  10874.31  \n",
      "19                           Purchase of digital gold      95.72   1020.24  \n",
      "20                                  Electronics shops      92.13  10067.66  \n",
      "21                            Beauty and barber shops      73.66   2061.03  \n",
      "22                           Electronics repair shops      77.30   2202.87  \n",
      "23                                 Passenger railways      73.85   3657.91  \n",
      "24  Mens, womens and childrens uniforms and commer...      65.64   5968.52  \n",
      "25                                  Department stores      65.88   4095.40  \n",
      "26                           Taxi-cabs and limousines      67.65   1186.07  \n",
      "27                                     Variety stores      60.23   3146.05  \n",
      "28                              Family clothing shops      48.12   4225.63  \n"
     ]
    }
   ],
   "source": [
    "print(df_merchant)"
   ]
  },
  {
   "cell_type": "code",
   "execution_count": null,
   "id": "b45dacbe-4f70-4033-a1e9-b16e7fc2227f",
   "metadata": {},
   "outputs": [],
   "source": [
    "DATA VISUALIZATION"
   ]
  },
  {
   "cell_type": "markdown",
   "id": "6a84eef2-aa3c-46d9-bf94-6d4d3cf034ab",
   "metadata": {},
   "source": [
    "---- Analysis: Top 10 Banks by Failure Rate ----"
   ]
  },
  {
   "cell_type": "code",
   "execution_count": 47,
   "id": "fca71aa6-5edd-4a50-a9eb-7b813bc4fd81",
   "metadata": {},
   "outputs": [
    {
     "name": "stderr",
     "output_type": "stream",
     "text": [
      "C:\\Users\\velpula smaran\\AppData\\Local\\Temp\\ipykernel_25604\\2732252925.py:3: FutureWarning: \n",
      "\n",
      "Passing `palette` without assigning `hue` is deprecated and will be removed in v0.14.0. Assign the `y` variable to `hue` and set `legend=False` for the same effect.\n",
      "\n",
      "  sns.barplot(x=\"failure_rate\", y=\"bank_name\", data=top_fail_banks, palette=\"coolwarm\")\n"
     ]
    },
    {
     "data": {
      "image/png": "[encoded data removed]",
      "text/plain": [
       "<Figure size 1000x600 with 1 Axes>"
      ]
     },
     "metadata": {},
     "output_type": "display_data"
    }
   ],
   "source": [
    "top_fail_banks = df_remitter.sort_values(\"failure_rate\", ascending=False).head(10)\n",
    "plt.figure(figsize=(10,6))\n",
    "sns.barplot(x=\"failure_rate\", y=\"bank_name\", data=top_fail_banks, palette=\"coolwarm\")\n",
    "plt.title(\"Top 10 Banks by UPI Transaction Failure Rate\")\n",
    "plt.xlabel(\"Failure Rate\")\n",
    "plt.ylabel(\"Bank Name\")\n",
    "plt.show()\n"
   ]
  },
  {
   "cell_type": "markdown",
   "id": "8282570a-4701-45a4-86ba-d161efa2ee50",
   "metadata": {},
   "source": [
    "---- Analysis: PSP Failure Comparison ----"
   ]
  },
  {
   "cell_type": "code",
   "execution_count": 67,
   "id": "f7e2829f-d487-4417-b9c2-3e95a6649d70",
   "metadata": {},
   "outputs": [
    {
     "name": "stderr",
     "output_type": "stream",
     "text": [
      "C:\\Users\\velpula smaran\\AppData\\Local\\Temp\\ipykernel_25604\\676110109.py:2: FutureWarning: \n",
      "\n",
      "Passing `palette` without assigning `hue` is deprecated and will be removed in v0.14.0. Assign the `y` variable to `hue` and set `legend=False` for the same effect.\n",
      "\n",
      "  sns.barplot(x=\"failure_rate\", y=\"psp_name\", data=df_psp.sort_values(\"failure_rate\", ascending=False).head(10), palette=\"Oranges_r\")\n"
     ]
    },
    {
     "data": {
      "image/png": "[encoded data removed]",
      "text/plain": [
       "<Figure size 1000x600 with 1 Axes>"
      ]
     },
     "metadata": {},
     "output_type": "display_data"
    }
   ],
   "source": [
    "plt.figure(figsize=(10,6))\n",
    "sns.barplot(x=\"failure_rate\", y=\"psp_name\", data=df_psp.sort_values(\"failure_rate\", ascending=False).head(10), palette=\"Oranges_r\")\n",
    "plt.title(\"Top 10 PSPs by UPI Transaction Failure Rate\")\n",
    "plt.xlabel(\"Failure Rate\")\n",
    "plt.ylabel(\"PSP Name\")\n",
    "plt.show()"
   ]
  },
  {
   "cell_type": "code",
   "execution_count": null,
   "id": "16e6b760-bc39-481f-96d3-f865af9ecda6",
   "metadata": {},
   "outputs": [],
   "source": []
  }
 ],
 "metadata": {
  "kernelspec": {
   "display_name": "Python 3 (ipykernel)",
   "language": "python",
   "name": "python3"
  },
  "language_info": {
   "codemirror_mode": {
    "name": "ipython",
    "version": 3
   },
   "file_extension": ".py",
   "mimetype": "text/x-python",
   "name": "python",
   "nbconvert_exporter": "python",
   "pygments_lexer": "ipython3",
   "version": "3.12.4"
  }
 },
 "nbformat": 4,
 "nbformat_minor": 5
}
